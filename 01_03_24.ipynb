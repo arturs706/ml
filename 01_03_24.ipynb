{
 "cells": [
  {
   "cell_type": "code",
   "execution_count": 10,
   "metadata": {},
   "outputs": [],
   "source": [
    "from langchain.prompts import PromptTemplate"
   ]
  },
  {
   "cell_type": "code",
   "execution_count": 7,
   "metadata": {},
   "outputs": [],
   "source": [
    "prompt_template_name=PromptTemplate(\n",
    "    input_variables=[\"city\"],\n",
    "    template=\"Can you tell me more about the city of {city}?\"\n",
    ")"
   ]
  },
  {
   "cell_type": "code",
   "execution_count": 14,
   "metadata": {},
   "outputs": [],
   "source": [
    "prompt_template_name=PromptTemplate(\n",
    "    input_variables=[\"full_name\"],\n",
    "    template=\"\"\"\n",
    "Dear {full_name},\n",
    "Thank you for your inquiry.\n",
    "Could you please kindly confirm how many people is it for, your move-in date, and your occupations?\n",
    "Also, when are you available for a viewing?\n",
    "Please do let us know.\n",
    "Thank you\"\"\"\n",
    ")\n",
    "\n"
   ]
  },
  {
   "cell_type": "code",
   "execution_count": 8,
   "metadata": {},
   "outputs": [
    {
     "data": {
      "text/plain": [
       "'Can you tell me more about the city of London?'"
      ]
     },
     "execution_count": 8,
     "metadata": {},
     "output_type": "execute_result"
    }
   ],
   "source": [
    "prompt_template_name.format(city=\"London\")"
   ]
  },
  {
   "cell_type": "code",
   "execution_count": 15,
   "metadata": {},
   "outputs": [
    {
     "name": "stdout",
     "output_type": "stream",
     "text": [
      "\n",
      "Dear Arturs,\n",
      "Thank you for your inquiry.\n",
      "Could you please kindly confirm how many people is it for, your move-in date, and your occupations?\n",
      "Also, when are you available for a viewing?\n",
      "Please do let us know.\n",
      "Thank you\n"
     ]
    }
   ],
   "source": [
    "print(prompt_template_name.format(full_name=\"Arturs\"))"
   ]
  },
  {
   "cell_type": "code",
   "execution_count": null,
   "metadata": {},
   "outputs": [],
   "source": [
    "prompt=PromptTemplate.from_template(\"Can you tell me more about the city of {city}?\")\n",
    "print(prompt.format(city=\"London\"))"
   ]
  }
 ],
 "metadata": {
  "kernelspec": {
   "display_name": "ai",
   "language": "python",
   "name": "python3"
  },
  "language_info": {
   "codemirror_mode": {
    "name": "ipython",
    "version": 3
   },
   "file_extension": ".py",
   "mimetype": "text/x-python",
   "name": "python",
   "nbconvert_exporter": "python",
   "pygments_lexer": "ipython3",
   "version": "3.12.2"
  }
 },
 "nbformat": 4,
 "nbformat_minor": 2
}
