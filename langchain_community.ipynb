{
 "cells": [
  {
   "cell_type": "code",
   "execution_count": null,
   "metadata": {},
   "outputs": [],
   "source": [
    "from langchain_community.llms import Ollama\n",
    "llm = Ollama(model=\"llama2\")"
   ]
  },
  {
   "cell_type": "code",
   "execution_count": null,
   "metadata": {},
   "outputs": [],
   "source": [
    "print(llm.invoke(\"How to fine tune LLAMA-2 model for my own use case?\"))"
   ]
  },
  {
   "cell_type": "code",
   "execution_count": null,
   "metadata": {},
   "outputs": [],
   "source": [
    "print(llm.invoke(\"What I need is really to get the automatic emails to be sent, based on the previous conversations and the answered questions\"))"
   ]
  },
  {
   "cell_type": "code",
   "execution_count": null,
   "metadata": {},
   "outputs": [],
   "source": [
    "print(llm.invoke(\"How to create a dataset that needs to be fully finetuned\"))"
   ]
  },
  {
   "cell_type": "code",
   "execution_count": null,
   "metadata": {},
   "outputs": [],
   "source": [
    "print(llm.invoke(\"Write a Python script that will change all values with s in the end to miliseconds, and all values with m, convert values from minutes to miliseconds in my CSV files 2nd column\"))"
   ]
  },
  {
   "cell_type": "code",
   "execution_count": null,
   "metadata": {},
   "outputs": [],
   "source": [
    "print(llm.invoke(\"How to remove from string letter - s or m\"))"
   ]
  },
  {
   "cell_type": "code",
   "execution_count": null,
   "metadata": {},
   "outputs": [],
   "source": [
    "print(llm.invoke(\"What problem can microservices written in Rust solve, comparing to Spring boot or other language\"))"
   ]
  },
  {
   "cell_type": "code",
   "execution_count": null,
   "metadata": {},
   "outputs": [],
   "source": [
    "print(llm.invoke(\"\"\"PLEASE WRITE THE SAME BY IMPLEMENTING CROSSBEAM RUST \n",
    "                 \n",
    "                 use std::collections::hash_map::DefaultHasher;\n",
    "use std::hash::{Hash, Hasher};\n",
    "use std::sync::{Arc, RwLock};\n",
    "use std::time::Instant; // Import Instant for timing\n",
    "\n",
    "// Define a simple hash map entry\n",
    "#[derive(Debug, Clone)]\n",
    "struct Entry<K, V> {\n",
    "    key: K,\n",
    "    value: V,\n",
    "}\n",
    "\n",
    "// Define the concurrent hash map\n",
    "#[derive(Debug)]\n",
    "struct ConcurrentHashMap<K, V> {\n",
    "    buckets: Vec<RwLock<Vec<Entry<K, V>>>>,\n",
    "}\n",
    "\n",
    "impl<K, V> ConcurrentHashMap<K, V>\n",
    "where\n",
    "    K: Hash + Eq,\n",
    "    V: Clone, // Ensure V supports the Clone trait\n",
    "{\n",
    "    // Create a new concurrent hash map with the specified number of buckets\n",
    "    fn new(num_buckets: usize) -> ConcurrentHashMap<K, V> {\n",
    "        let mut buckets = Vec::with_capacity(num_buckets);\n",
    "        for _ in 0..num_buckets {\n",
    "            buckets.push(RwLock::new(Vec::new()));\n",
    "        }\n",
    "        ConcurrentHashMap { buckets }\n",
    "    }\n",
    "\n",
    "    // Hash function to determine which bucket to use\n",
    "    fn hash(&self, key: &K) -> usize {\n",
    "        let mut hasher = DefaultHasher::new();\n",
    "        key.hash(&mut hasher);\n",
    "        hasher.finish() as usize % self.buckets.len()\n",
    "    }\n",
    "\n",
    "    // Insert a key-value pair into the hash map\n",
    "    fn insert(&self, key: K, value: V) {\n",
    "        let index = self.hash(&key);\n",
    "        let mut bucket = self.buckets[index].write().unwrap();\n",
    "        bucket.push(Entry { key, value });\n",
    "    }\n",
    "\n",
    "    // Get the value associated with the given key from the hash map\n",
    "    fn get(&self, key: &K) -> Option<V> {\n",
    "        let index = self.hash(key);\n",
    "        let bucket = self.buckets[index].read().unwrap();\n",
    "        for entry in bucket.iter() {\n",
    "            if &entry.key == key {\n",
    "                return Some(entry.value.clone()); // Use clone to return a copy of the value\n",
    "            }\n",
    "        }\n",
    "        None\n",
    "    }\n",
    "}\n",
    "\n",
    "fn main() {\n",
    "    // Create a new concurrent hash map with 16 buckets\n",
    "    let map = Arc::new(ConcurrentHashMap::new(16));\n",
    "\n",
    "    // Measure the time it takes to insert key-value pairs concurrently\n",
    "    let start_time = Instant::now(); // Start the timer\n",
    "\n",
    "    let handles: Vec<_> = (0..8)\n",
    "        .map(|i| {\n",
    "            let map = Arc::clone(&map);\n",
    "            std::thread::spawn(move || {\n",
    "                map.insert(i, i * 10);\n",
    "            })\n",
    "        })\n",
    "        .collect();\n",
    "\n",
    "    for handle in handles {\n",
    "        handle.join().unwrap();\n",
    "    }\n",
    "\n",
    "    let elapsed_time = start_time.elapsed(); // Calculate elapsed time\n",
    "    println!(\"Time taken to insert: {:?}\", elapsed_time);\n",
    "\n",
    "    // Get and print the values associated with some keys\n",
    "    for i in 0..8 {\n",
    "        println!(\"Value for key {}: {:?}\", i, map.get(&i));\n",
    "    }\n",
    "}\n",
    "\n",
    "                 \n",
    "                 \"\"\"))"
   ]
  },
  {
   "cell_type": "code",
   "execution_count": null,
   "metadata": {},
   "outputs": [],
   "source": [
    "print(llm.invoke(\"How to create a microservice in Rust that will take a prompt and generate a schema of microservices\"))"
   ]
  },
  {
   "cell_type": "code",
   "execution_count": null,
   "metadata": {},
   "outputs": [],
   "source": [
    "print(llm.invoke(\"What could be implemented in Rust to make it easier to use for microservices\"))"
   ]
  },
  {
   "cell_type": "code",
   "execution_count": 5,
   "metadata": {},
   "outputs": [
    {
     "name": "stdout",
     "output_type": "stream",
     "text": [
      "Yes, it is possible to create a Rust microservice that takes a prompt and generates a schema for your WebAssembly project. Here's an outline of how you could approach this task:\n",
      "\n",
      "1. Define the structure of the schema: Before creating the microservice, you'll need to define the structure of the schema that you want to generate. This could include the types of fields or properties that you want to include in the schema, as well as any relationships between those fields or properties.\n",
      "2. Use a templating language: To generate the schema, you can use a templating language such as Mustache or Jinja2. These languages allow you to define templates with placeholders for dynamic data, and can be easily integrated into your Rust code.\n",
      "3. Implement the microservice: Once you have defined the structure of the schema and chosen a templating language, you can implement the microservice in Rust. This will involve writing code that takes the prompt as input, parses it using a JSON or YAML library (if the prompt contains JSON or YAML data), and uses the templating language to generate the schema based on the parsed data.\n",
      "4. Generate the schema: Once you have implemented the microservice, you can use it to generate the schema. This will involve calling the microservice with the prompt as input, and using the generated schema as output.\n",
      "\n",
      "Here is an example of how this could be implemented in Rust:\n",
      "```\n",
      "use serde::{Deserialize, Serializable};\n",
      "use json::Json;\n",
      "use mustache::Mustache;\n",
      "\n",
      "#[derive(Debug, Deserialize, Serializable)]\n",
      "struct Person {\n",
      "    name: String,\n",
      "    age: u32,\n",
      "}\n",
      "\n",
      "fn main() -> Result<(), Box<dyn std::error::Error>> {\n",
      "    let prompt = \"Name: John\\nAge: 30\";\n",
      "    let json = Json::from_str(prompt).unwrap();\n",
      "    let schema = mustache(\"person\", &json)?;\n",
      "    println!(\"Schema:\");\n",
      "    println!(\"{}\", schema);\n",
      "    Ok(())\n",
      "}\n",
      "\n",
      "fn mustache(template: &str, data: &Json) -> Result<String, Box<dyn std::error::Error>> {\n",
      "    let mut template = Mustache::new();\n",
      "    template.set_data(data)?;\n",
      "    template.render()?\n",
      "}\n",
      "```\n",
      "In this example, we define a `Person` struct with fields for `name` and `age`. We then use the `Json::from_str()` function to parse a JSON string representing the prompt, and store the result in the `json` variable. We then use the `mustache()` function to generate the schema based on the parsed data, and print the resulting schema to the console.\n",
      "\n",
      "Note that this is just a simple example, and you may want to add additional features or error handling depending on your specific use case.\n"
     ]
    }
   ],
   "source": [
    "print(llm.invoke(\"Can I make a microservice in Rust that will take a prompt and generate a schema of microservices in my WebAssembly project\"))"
   ]
  }
 ],
 "metadata": {
  "kernelspec": {
   "display_name": "ai",
   "language": "python",
   "name": "python3"
  },
  "language_info": {
   "codemirror_mode": {
    "name": "ipython",
    "version": 3
   },
   "file_extension": ".py",
   "mimetype": "text/x-python",
   "name": "python",
   "nbconvert_exporter": "python",
   "pygments_lexer": "ipython3",
   "version": "3.9.6"
  }
 },
 "nbformat": 4,
 "nbformat_minor": 2
}
