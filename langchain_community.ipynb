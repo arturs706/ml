{
 "cells": [
  {
   "cell_type": "code",
   "execution_count": 2,
   "metadata": {},
   "outputs": [
    {
     "name": "stderr",
     "output_type": "stream",
     "text": [
      "/Users/artursradionovs/Desktop/test_ml/ai/lib/python3.9/site-packages/urllib3/__init__.py:35: NotOpenSSLWarning: urllib3 v2 only supports OpenSSL 1.1.1+, currently the 'ssl' module is compiled with 'LibreSSL 2.8.3'. See: https://github.com/urllib3/urllib3/issues/3020\n",
      "  warnings.warn(\n"
     ]
    }
   ],
   "source": [
    "from langchain_community.llms import Ollama\n",
    "llm = Ollama(model=\"llama2\")"
   ]
  },
  {
   "cell_type": "code",
   "execution_count": null,
   "metadata": {},
   "outputs": [],
   "source": [
    "print(llm.invoke(\"How to fine tune LLAMA-2 model for my own use case?\"))"
   ]
  },
  {
   "cell_type": "code",
   "execution_count": null,
   "metadata": {},
   "outputs": [],
   "source": [
    "print(llm.invoke(\"What I need is really to get the automatic emails to be sent, based on the previous conversations and the answered questions\"))"
   ]
  },
  {
   "cell_type": "code",
   "execution_count": null,
   "metadata": {},
   "outputs": [],
   "source": [
    "print(llm.invoke(\"How to create a dataset that needs to be fully finetuned\"))"
   ]
  },
  {
   "cell_type": "code",
   "execution_count": null,
   "metadata": {},
   "outputs": [],
   "source": [
    "print(llm.invoke(\"Write a Python script that will change all values with s in the end to miliseconds, and all values with m, convert values from minutes to miliseconds in my CSV files 2nd column\"))"
   ]
  },
  {
   "cell_type": "code",
   "execution_count": null,
   "metadata": {},
   "outputs": [],
   "source": [
    "print(llm.invoke(\"How to remove from string letter - s or m\"))"
   ]
  },
  {
   "cell_type": "code",
   "execution_count": null,
   "metadata": {},
   "outputs": [],
   "source": [
    "print(llm.invoke(\"What problem can microservices written in Rust solve, comparing to Spring boot or other language\"))"
   ]
  },
  {
   "cell_type": "code",
   "execution_count": null,
   "metadata": {},
   "outputs": [],
   "source": [
    "print(llm.invoke(\"\"\"PLEASE WRITE THE SAME BY IMPLEMENTING CROSSBEAM RUST \n",
    "                 \n",
    "                 use std::collections::hash_map::DefaultHasher;\n",
    "use std::hash::{Hash, Hasher};\n",
    "use std::sync::{Arc, RwLock};\n",
    "use std::time::Instant; // Import Instant for timing\n",
    "\n",
    "// Define a simple hash map entry\n",
    "#[derive(Debug, Clone)]\n",
    "struct Entry<K, V> {\n",
    "    key: K,\n",
    "    value: V,\n",
    "}\n",
    "\n",
    "// Define the concurrent hash map\n",
    "#[derive(Debug)]\n",
    "struct ConcurrentHashMap<K, V> {\n",
    "    buckets: Vec<RwLock<Vec<Entry<K, V>>>>,\n",
    "}\n",
    "\n",
    "impl<K, V> ConcurrentHashMap<K, V>\n",
    "where\n",
    "    K: Hash + Eq,\n",
    "    V: Clone, // Ensure V supports the Clone trait\n",
    "{\n",
    "    // Create a new concurrent hash map with the specified number of buckets\n",
    "    fn new(num_buckets: usize) -> ConcurrentHashMap<K, V> {\n",
    "        let mut buckets = Vec::with_capacity(num_buckets);\n",
    "        for _ in 0..num_buckets {\n",
    "            buckets.push(RwLock::new(Vec::new()));\n",
    "        }\n",
    "        ConcurrentHashMap { buckets }\n",
    "    }\n",
    "\n",
    "    // Hash function to determine which bucket to use\n",
    "    fn hash(&self, key: &K) -> usize {\n",
    "        let mut hasher = DefaultHasher::new();\n",
    "        key.hash(&mut hasher);\n",
    "        hasher.finish() as usize % self.buckets.len()\n",
    "    }\n",
    "\n",
    "    // Insert a key-value pair into the hash map\n",
    "    fn insert(&self, key: K, value: V) {\n",
    "        let index = self.hash(&key);\n",
    "        let mut bucket = self.buckets[index].write().unwrap();\n",
    "        bucket.push(Entry { key, value });\n",
    "    }\n",
    "\n",
    "    // Get the value associated with the given key from the hash map\n",
    "    fn get(&self, key: &K) -> Option<V> {\n",
    "        let index = self.hash(key);\n",
    "        let bucket = self.buckets[index].read().unwrap();\n",
    "        for entry in bucket.iter() {\n",
    "            if &entry.key == key {\n",
    "                return Some(entry.value.clone()); // Use clone to return a copy of the value\n",
    "            }\n",
    "        }\n",
    "        None\n",
    "    }\n",
    "}\n",
    "\n",
    "fn main() {\n",
    "    // Create a new concurrent hash map with 16 buckets\n",
    "    let map = Arc::new(ConcurrentHashMap::new(16));\n",
    "\n",
    "    // Measure the time it takes to insert key-value pairs concurrently\n",
    "    let start_time = Instant::now(); // Start the timer\n",
    "\n",
    "    let handles: Vec<_> = (0..8)\n",
    "        .map(|i| {\n",
    "            let map = Arc::clone(&map);\n",
    "            std::thread::spawn(move || {\n",
    "                map.insert(i, i * 10);\n",
    "            })\n",
    "        })\n",
    "        .collect();\n",
    "\n",
    "    for handle in handles {\n",
    "        handle.join().unwrap();\n",
    "    }\n",
    "\n",
    "    let elapsed_time = start_time.elapsed(); // Calculate elapsed time\n",
    "    println!(\"Time taken to insert: {:?}\", elapsed_time);\n",
    "\n",
    "    // Get and print the values associated with some keys\n",
    "    for i in 0..8 {\n",
    "        println!(\"Value for key {}: {:?}\", i, map.get(&i));\n",
    "    }\n",
    "}\n",
    "\n",
    "                 \n",
    "                 \"\"\"))"
   ]
  },
  {
   "cell_type": "code",
   "execution_count": null,
   "metadata": {},
   "outputs": [],
   "source": [
    "print(llm.invoke(\"How to create a microservice in Rust that will take a prompt and generate a schema of microservices\"))"
   ]
  },
  {
   "cell_type": "code",
   "execution_count": 3,
   "metadata": {},
   "outputs": [
    {
     "name": "stdout",
     "output_type": "stream",
     "text": [
      "\n",
      "There are several things that could be implemented in Rust to make it easier to use for microservices:\n",
      "\n",
      "1. **Better support for asynchronous programming**: Many microservices are designed to handle a high volume of requests and must handle them concurrently. Rust's async/await system is powerful, but it can be complex to use, especially for developers who are new to the language. Improving the ergonomics of the async/await system could make it easier for developers to write asynchronous code in Rust.\n",
      "2. **Improved support for distributed systems**: Rust's ownership model and immutability by default can help prevent common problems in distributed systems, such as data races and lost updates. However, there are still areas where the language could be improved to make it easier to reason about and build distributed systems. For example, adding more built-in support for concurrent access control and data synchronization across nodes in a cluster would be helpful.\n",
      "3. **Better integration with web frameworks**: Many microservices are designed to be deployed as web services, and Rust currently has limited support for building web applications. Improving the integration between Rust and popular web frameworks such as Rocket or actix-web could make it easier for developers to build web applications in Rust.\n",
      "4. **Simplified deployment**: Microservices often need to be deployed and managed in a distributed environment, and Rust's deployment story can be complex. Simplifying the process of deploying Rust applications to a production environment could make it easier for developers to use Rust for microservices.\n",
      "5. **Improved error handling**: Microservices often need to handle errors gracefully and provide useful error messages to users. Improving Rust's error handling mechanisms, such as the `Result` type and `?` operator, could make it easier for developers to write robust and reliable microservices.\n",
      "6. **More comprehensive documentation**: Microservices often require a high degree of customization and tailoring to specific use cases. Providing more comprehensive documentation and examples of how to use Rust for common microservice patterns, such as API gateways, load balancers, and message queues, could make it easier for developers to understand how to apply Rust to their specific needs.\n",
      "7. **Better support for concurrent development**: Microservices are often developed by multiple teams in parallel, and it can be challenging to manage dependencies and ensure consistency across different components. Improving Rust's support for concurrent development, such as through the use of dependency injection or other mechanisms, could make it easier for developers to work on different parts of a microservice simultaneously.\n",
      "8. **Improved support for testing**: Testing is an essential part of building reliable microservices, and Rust currently has limited support for testing. Improving Rust's testing story, such as through the use of more powerful testing frameworks like `cargo-test`, could make it easier for developers to write robust and reliable tests for their microservices.\n",
      "9. **Better integration with DevOps tools**: Many microservices are built using DevOps tools like Jenkins, Travis CI, or CircleCI. Improving Rust's integration with these tools, such as through the use of more powerful build scripts or better support for continuous integration and deployment (CI/CD), could make it easier for developers to automate the process of building and deploying their microservices.\n",
      "10. **More community involvement**: Building a strong community around Rust can help attract more developers to the language and make it easier for them to find resources and support when building microservices. Encouraging more community involvement, such as through the use of user groups or online forums, could help build a stronger Rust ecosystem and make it easier for developers to use the language for microservices.\n"
     ]
    }
   ],
   "source": [
    "print(llm.invoke(\"What could be implemented in Rust to make it easier to use for microservices\"))"
   ]
  },
  {
   "cell_type": "code",
   "execution_count": null,
   "metadata": {},
   "outputs": [],
   "source": [
    "print(llm.invoke(\"Can I make a microservice in Rust that will take a prompt and generate a schema of microservices in my WebAssembly project\"))"
   ]
  }
 ],
 "metadata": {
  "kernelspec": {
   "display_name": "ai",
   "language": "python",
   "name": "python3"
  },
  "language_info": {
   "codemirror_mode": {
    "name": "ipython",
    "version": 3
   },
   "file_extension": ".py",
   "mimetype": "text/x-python",
   "name": "python",
   "nbconvert_exporter": "python",
   "pygments_lexer": "ipython3",
   "version": "3.9.6"
  }
 },
 "nbformat": 4,
 "nbformat_minor": 2
}
